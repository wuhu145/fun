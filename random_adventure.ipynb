{
 "cells": [
  {
   "cell_type": "code",
   "execution_count": 3,
   "id": "fc47942d",
   "metadata": {},
   "outputs": [],
   "source": [
    "#type Ⅰ 随机喊停型\n",
    "import random\n",
    "from PIL import Image\n",
    "from moviepy.editor import ImageSequenceClip\n",
    "\n",
    "# 打开两张图片\n",
    "background = Image.open(r\"F:\\file\\fun\\static\\map1.jpg\")\n",
    "overlay = Image.open(r\"F:\\file\\fun\\static\\dart12.png\")\n",
    "\n",
    "# 定义帧数和每帧的持续时间\n",
    "num_frames = 62\n",
    "frame_duration = 0.6  # 每帧持续时间为 100 毫秒\n",
    "\n",
    "# 循环生成每一帧\n",
    "for i in range(num_frames):\n",
    "    # 创建一个 background 的副本\n",
    "    background_copy = background.copy()\n",
    "    \n",
    "    # 随机生成 overlay 的位置\n",
    "    x = random.randint(0, background.width - overlay.width)\n",
    "    y = random.randint(0, background.height - overlay.height)\n",
    "    \n",
    "    # 将 overlay 图片粘贴到 background 图片上\n",
    "    background_copy.paste(overlay, (x, y), overlay)\n",
    "    \n",
    "    # 保存每一帧的图片\n",
    "    background_copy.save(r\"F:\\file\\fun\\temp\\frame_{:03d}.jpg\".format(i))\n",
    "#     print(\"*-*-*-*-*-*-*-*-*-*-*-*-*--*-*-*-*-*-*-*--*-*-*-*-*-*--*-*-*-*-*--*-*-*-*-*-*-*\")\n",
    "    \n",
    "#     # 为了在动画中看到移动效果，每帧稍微改变 overlay 的位置\n",
    "    overlay = overlay.rotate(0)  # 每帧旋转 5 度\n",
    "\n",
    "# frames = [Image.open(r\"F:\\file\\fun\\frame_{:03d}.jpg\".format(i)) for i in range(num_frames)]\n",
    "# frames[0].save(r\"F:\\file\\fun\\moving_overlay_animation.gif\", save_all=True, append_images=frames[1:], duration=frame_duration, loop=0)\n",
    "# 合成所有帧为动画\n",
    "\n",
    "\n",
    "\n",
    "\n",
    "# 读取所有帧\n",
    "frames = [f\"F:\\\\file\\\\fun\\\\temp\\\\frame_{i:03d}.jpg\" for i in range(num_frames)]\n",
    "\n",
    "# 使用 MoviePy 创建视频对象\n",
    "clip = ImageSequenceClip(frames, fps=1/frame_duration)\n",
    "\n",
    "# 导出为 MP4 视频\n",
    "clip.write_videofile(r\"F:\\file\\fun\\命运之神的骰子.mp4\", codec='mpeg4', fps=24)"
   ]
  },
  {
   "cell_type": "code",
   "execution_count": 1,
   "id": "059312e5",
   "metadata": {},
   "outputs": [
    {
     "name": "stdout",
     "output_type": "stream",
     "text": [
      "Moviepy - Building video F:\\file\\fun\\命运之神的骰子.mp4.\n",
      "Moviepy - Writing video F:\\file\\fun\\命运之神的骰子.mp4\n",
      "\n"
     ]
    },
    {
     "name": "stderr",
     "output_type": "stream",
     "text": [
      "                                                                                                                       "
     ]
    },
    {
     "name": "stdout",
     "output_type": "stream",
     "text": [
      "Moviepy - Done !\n",
      "Moviepy - video ready F:\\file\\fun\\命运之神的骰子.mp4\n"
     ]
    },
    {
     "name": "stderr",
     "output_type": "stream",
     "text": [
      "\r"
     ]
    }
   ],
   "source": [
    "#typeⅡ   随机游走型\n",
    "import random\n",
    "from PIL import Image\n",
    "from moviepy.editor import ImageSequenceClip\n",
    "\n",
    "# 打开两张图片\n",
    "background = Image.open(r\"F:\\file\\fun\\static\\map1.jpg\")\n",
    "overlay = Image.open(r\"F:\\file\\fun\\static\\dart12.png\")\n",
    "\n",
    "# 定义帧数和每帧的持续时间\n",
    "num_frames = 200\n",
    "frame_duration = 0.1  # 每帧持续时间为 100 毫秒\n",
    "\n",
    "# 初始化 x 和 y 的位置\n",
    "x = random.randint(0, background.width - overlay.width)\n",
    "y = random.randint(0, background.height - overlay.height)\n",
    "\n",
    "# 定义游走距离的初始值和结束值\n",
    "initial_distance = 120\n",
    "final_distance = 10\n",
    "\n",
    "# 循环生成每一帧\n",
    "for i in range(num_frames):\n",
    "    # 创建一个 background 的副本\n",
    "    background_copy = background.copy()\n",
    "    \n",
    "    # 计算当前帧应用的游走距离\n",
    "    progress = i / num_frames\n",
    "    current_distance = int(initial_distance * (1 - progress) + final_distance * progress)\n",
    "    \n",
    "    # 在上一帧的位置基础上随机增加或减少 x 和 y 的值\n",
    "    x += random.choice([-current_distance, 0, current_distance])  # 随机选择增加、减少或不变\n",
    "    y += random.choice([-current_distance, 0, current_distance])  # 随机选择增加、减少或不变\n",
    "    \n",
    "    # 确保新的位置在合理范围内\n",
    "    x = max(0, min(x, background.width - overlay.width))\n",
    "    y = max(0, min(y, background.height - overlay.height))\n",
    "    \n",
    "    # 将 overlay 图片粘贴到 background 图片上\n",
    "    \n",
    "    background_copy.paste(overlay, (x, y), overlay)\n",
    "    \n",
    "    # 保存每一帧的图片\n",
    "    background_copy.save(r\"F:\\file\\fun\\temp\\frame_{:03d}.jpg\".format(i))\n",
    "#     overlay = overlay.rotate(5)  # 每帧旋转 5 度\n",
    "\n",
    "# 生成视频\n",
    "image_sequence = [f\"F:\\\\file\\\\fun\\\\temp\\\\frame_{i:03d}.jpg\" for i in range(num_frames)]\n",
    "clip = ImageSequenceClip(image_sequence, fps=1/frame_duration)\n",
    "# 导出为 MP4 视频\n",
    "clip.write_videofile(r\"F:\\file\\fun\\命运之神的骰子.mp4\", codec='mpeg4', fps=24)\n"
   ]
  },
  {
   "cell_type": "code",
   "execution_count": 2,
   "id": "29c199a0",
   "metadata": {},
   "outputs": [
    {
     "name": "stdout",
     "output_type": "stream",
     "text": [
      "我们的预算是：600元\n"
     ]
    }
   ],
   "source": [
    "import random\n",
    "budget=[100*i for i in range(1,11)]\n",
    "print(f\"我们的预算是：{random.choice(budget)}元\")"
   ]
  },
  {
   "cell_type": "code",
   "execution_count": null,
   "id": "9f8684c4",
   "metadata": {},
   "outputs": [],
   "source": []
  },
  {
   "cell_type": "code",
   "execution_count": null,
   "id": "da51f51b",
   "metadata": {},
   "outputs": [],
   "source": []
  }
 ],
 "metadata": {
  "kernelspec": {
   "display_name": "Python 3 (ipykernel)",
   "language": "python",
   "name": "python3"
  },
  "language_info": {
   "codemirror_mode": {
    "name": "ipython",
    "version": 3
   },
   "file_extension": ".py",
   "mimetype": "text/x-python",
   "name": "python",
   "nbconvert_exporter": "python",
   "pygments_lexer": "ipython3",
   "version": "3.9.7"
  }
 },
 "nbformat": 4,
 "nbformat_minor": 5
}
